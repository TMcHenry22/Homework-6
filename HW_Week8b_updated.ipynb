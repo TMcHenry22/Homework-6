{
 "cells": [
  {
   "cell_type": "markdown",
   "metadata": {},
   "source": [
    "# PHYS 20323/60323 Homework Week 8 (part 2)\n",
    "\n",
    "FALL 2022\n"
   ]
  },
  {
   "cell_type": "markdown",
   "metadata": {},
   "source": [
    "### 4) Altitude of a satellite (continued)\n",
    "\n",
    "A satellite is to be launched into a circular orbit around the Earth so that it orbits the planet once every T seconds.\n",
    "\n",
    "The altitude h above the Earth’s surface that the satellite must have is:\n",
    "\n",
    "$$h = \\left( \\frac{G M T^2}{4\\pi^2} \\right)^{1/3} - R$$\n",
    "\n",
    "where $G = 6.67 \\times 10^{-11}$ m$^3$ kg$^{-1}$ s$^{-2}$\n",
    "is Newton's gravitational constant, $M = 5.97 \\times 10^{24}$ kg is the mass of the Earth, and $R = 6371$ km is its radius.\n",
    "\n",
    "#### Write a program that asks the user to enter the desired value of T and then calculates and prints out the correct altitude in meters.\n"
   ]
  },
  {
   "cell_type": "code",
   "execution_count": null,
   "metadata": {},
   "outputs": [],
   "source": [
    "import math\n",
    "def altSat():\n",
    "    t= float(input(\"What is the time the satellite is to complete one orbit of the planet? \"))\n",
    "    units= input('Is the time above in seconds? (input true or false)')\n",
    "    if(units=='false'):\n",
    "        userunits= input(\"What are the Units you used? (input min, hrs, days)(if neither submit nothing or 'na')\")\n",
    "        if(userunits=='min'):\n",
    "            t=t*60\n",
    "        elif(userunits=='hrs'):\n",
    "            t=t/3600\n",
    "        elif(userunits=='days'):\n",
    "            t=t*(3600*24)\n",
    "        else:\n",
    "            return \"Unable to calculate correct units\"\n",
    "    g= (6.67*(10**-11))\n",
    "    m=(5.97*(10**24))\n",
    "    r=(6371*1000)\n",
    "    h=(((g*m*(t**2))/(4*(math.pi**2)))**(1/3))\n",
    "    hf= h-r\n",
    "    return hf\n",
    "\n",
    "\n",
    "print(altSat())"
   ]
  },
  {
   "cell_type": "code",
   "execution_count": null,
   "metadata": {},
   "outputs": [],
   "source": [
    "import math\n",
    "def altSatNew(time):\n",
    " #   t= float(input(\"What is the time the satellite is to complete one orbit of the planet? \"))\n",
    " #   units= input('Is the time above in seconds? (input true or false)')\n",
    "    g= (6.67*(10**-11))\n",
    "    m=(5.97*(10**24))\n",
    "    r=(6371*1000)\n",
    "    h=(((g*m*(t**2))/(4*(math.pi**2)))**(1/3))\n",
    "    hf= h-r\n",
    "    return hf\n"
   ]
  },
  {
   "cell_type": "markdown",
   "metadata": {},
   "source": [
    "#### Modify your code to calculate the times from 0.5 hour  to 30 days, in steps of 0.5 hours.   Then plot those data points (time vs h) with properly labled axes.  Plot orbits with height below 0 as red, and plots positive hieghts with times less than geosynchronous in blue and those longer in green."
   ]
  },
  {
   "cell_type": "code",
   "execution_count": 5,
   "metadata": {},
   "outputs": [],
   "source": [
    "from matplotlib import pyplot as plt\n",
    "import numpy as np\n",
    "import math\n",
    "def altSatDay(hrs,days):\n",
    "#calculate times from 0.5 hrs to 30 days\n",
    "    #for each step of 0.5 hours add data point on plot\n",
    "    #color code geosynchronous in blue\n",
    "    #print those longer in green\n",
    "    g= (6.67*(10**-11))\n",
    "    m=(5.97*(10**24))\n",
    "    r=(6371*1000)\n",
    "    h=(((g*m*(t**2))/(4*(math.pi**2)))**(1/3))\n",
    "    hf= h-r\n",
    "    daystohrs=days*24\n",
    "    xval=[]\n",
    "    yval=[]\n",
    "\n",
    "    for n in range(hrs,daystohrs,0.05):\n",
    "        h=(((g*m*((t*3600)*2))/(4*(math.pi**2)))**(1/3))-6371000\n",
    "        xval.append(h)\n",
    "        yval.append(n)\n",
    "    print(xval)\n",
    "    print(yval)\n",
    "    yval=np.array(yval)\n",
    "    xval=np.array(xval)\n",
    "    print(xval,yval)\n",
    "    \n",
    "    \n",
    "    \n",
    "    below=(xval<0)\n",
    "    belowt=yval[below]\n",
    "    belowh=xval[below]\n",
    "    \n",
    "    ax1.scatter(belowt,belowh,s=10,c='r',alpha=0.5)\n",
    "    \n",
    "    \n",
    "    middle=(xval<=100)\n",
    "    middlet=yval[middle]\n",
    "    middleh=xval[middle]\n",
    "    \n",
    "    ax1.scatter(middlet,middleh,s=10,c='b',alpha=0.5)\n",
    "    \n",
    "    top=(xval>100)\n",
    "    topt=yval[top]\n",
    "    toph=xval[top]\n",
    "    \n",
    "    ax1.scatter(topt,toph,s=10,c='r',alpha=0.5)\n",
    "   # fig = plt.figure()                           # makes a figure\n",
    "   # ax = fig.add_subplot(111)                    # make a 1,1,1 (single) figure\n",
    "   # ax.scatter(xval,yval,s=5,c='k',alpha=0.3)\n",
    "  #  fig = plt.figure()  \n",
    "   # ax = fig.add_subplot(111)                    # make a 1,1,1 (single) figure\n",
    "   # ax.scatter(XGC,YGC,s=5,c='k',alpha=0.3)      # makes a scatter plot (s = size, c = color, alpha = transparency)\n",
    "   # plt.plot(xval,yval)\n",
    "    #plt.xlabel('time (hrs)')\n",
    "   # plt.ylabel('Altitude (m)')\n",
    "   # plt.title('time vs. Altitude')  #title of grpah\n",
    "   # plt.show()"
   ]
  },
  {
   "cell_type": "markdown",
   "metadata": {},
   "source": [
    "### 2) Planetary orbits\n",
    "\n",
    "The orbit in space of one body around another, such as a planet around the Sun, need not be circular. In general it takes the form of an ellipse, with the body sometimes closer in and sometimes further out. If you are given the distance $l_1$ of closest approach that a planet makes to the Sun, also called its perihelion, and its linear velocity $v_1$ at *perihelion*, then any other property of the orbit can be calculated from these two as follows.\n",
    "\n",
    "Kepler’s second law tells us that the distance $l_2$ and velocity $v_2$ of the planet at its most distant point, or *aphelion*, satisfy $l_2 v_2 = l_1 v_1$. \n",
    "\n",
    "Solve for $v_2$ using, where $M = 1.9891 \\times 10^{30}$ kg is the mass of the Sun, and G = $6.6738 \\times 10^{−11}$ m$^3$ kg$^{−1}$ s$^{−2}$ :\n",
    "\n",
    "$$ v_2^2 - \\frac{2 G M}{ v_1 l_1}  v_2 - \\left( v_1^2 - \\frac{2 G M}{ l_1} \\right) = 0 $$\n",
    "\n",
    "\n",
    "Given the values of $v_1$, $l_1$, and $l_2$, other parameters of the orbit are given by simple formulas can that be derived from Kepler’s laws and the fact that the orbit is an ellipse:\n",
    "\n",
    "Semi-Major Axis $$ a = \\frac{1}{2} (l_1 + l_2) $$ \n",
    "Semi-Minor Axis: $$ b = \\sqrt{l_1  l_2} $$ \n",
    "Orbital Period: $$ T = \\frac{2 \\pi a b}{l_1 v_1} $$ \n",
    "Orbital eccentricity:  $$ e = \\frac{l_2 - l_1}{l_2 + l_1}$$\n",
    "\n",
    "#### Write a program with functions that asks the user to enter the distance to the Sun and velocity at perihelion, then calculates and prints the quantities $l2$, $v2$, $a$, $b$, $T$, and $e$.\n",
    "\n"
   ]
  },
  {
   "cell_type": "code",
   "execution_count": null,
   "metadata": {},
   "outputs": [],
   "source": [
    "import math\n",
    "def bestquadEqu():\n",
    "    c=((v1**2-((2*g*m)/I1))\n",
    "    b=(2*g*m)/(v1*I1)\n",
    "    a=1\n",
    "    xsqu1=float(math.sqrt((b**2)-(4*a*c)))\n",
    "    x1=(-b+xsqu1)/(2*a) \n",
    "    x2=(-b-xsqu1/2*a)#not good x\n",
    "    sqrt= (b**2-(4*a*c))\n",
    "    xsqu2=math.sqrt(sqrt)\n",
    "    x3=(2*c)/(-b+xsqu2) #not good enough\n",
    "    x4=(2*c)/(-b-xsqu2) \n",
    "    closer=math.fabs(x1-x2)\n",
    "    closer3=math.fabs(x4-x3)\n",
    "    closer5=math.fabs(x1-x3)\n",
    "    closer7=math.fabs(x2-x3)\n",
    "    closer9=math.fabs(x1-x4)\n",
    "    closer11=math.fabs(x4-x2)\n",
    "    if((closer<closer3) and (closer<closer5) and (closer<closer7) and (closer<closer9) and (closer<closer11)):\n",
    "        return (x1,x2)\n",
    "    elif((closer3<closer5) and (closer3<closer7) and (closer3<closer9) and (closer3<closer11)):\n",
    "        return (x3,x4)\n",
    "    elif( (closer5<closer7) and (closer5<closer9) and (closer5<closer11)):\n",
    "        return (x1,x3)\n",
    "    elif((closer7<closer9) and (closer7<closer11)):\n",
    "        return (x2,x3)\n",
    "    elif(closer9<closer11):\n",
    "        return (x1,x4)\n",
    "    else:\n",
    "        return (x2,x4)\n",
    "    \n",
    "bestquadEqu()"
   ]
  },
  {
   "cell_type": "code",
   "execution_count": null,
   "metadata": {},
   "outputs": [],
   "source": [
    "import math\n",
    "def userPlanetaryOrbit():\n",
    "    m=(1.9891e30)\n",
    "    g=(6.6738e-11)\n",
    "    \n",
    "    I1= float(input(\"Please enter the distance to the Sun: (units in meters)\"))\n",
    "    v1= float(input(\"Please enter the linear velocity at perihelion: Units in (m/s)\"))\n",
    "    \n",
    "    #My v2 is totally wrong redo must use quadratic equation\n",
    "    \n",
    "    v2sqr=(((2*g*m)/(v1*I1))-((v1**2-((2*g*m)/I1))))\n",
    "    v2=math.sqrt(v2sqr)\n",
    "    I2=(I1*v1)/v2\n",
    "    a=0.5*(I1+I2) #semi-major axis\n",
    "    b=math.sqrt(I1*I2) #semi-minor axis\n",
    "    e=(I2-I1)/(I2+I1)   #orbital eccentricity\n",
    "    ts=(2*(math.pi)*a*b)/(I1*v1)\n",
    "    t=ts/(60*60*24*365)\n",
    "    print(\" I2, v2, a, t, e\")\n",
    "    return (I2,v2,a,t, e)\n",
    "print(userPlanetaryOrbit())"
   ]
  },
  {
   "cell_type": "markdown",
   "metadata": {},
   "source": [
    "#### Test your program by having it calculate the properties of the orbits of the Earth (for which $l_1 = 1.4710 \\times 10^{11}$ m and $v_1 = 3.0287 \\times 10^4$ m s$^{−1}$ ) and Halley’s comet ($l_1 = 8.7830 \\times 10^{10}$ m and $v_1 = 5.4529 \\times 10^4$ m s${−1}$ ). Among other things, you should find that the orbital period of the Earth is one year and that of Halley’s comet is about 76 years."
   ]
  },
  {
   "cell_type": "code",
   "execution_count": null,
   "metadata": {},
   "outputs": [],
   "source": [
    "print(userPlanetaryOrbit())"
   ]
  },
  {
   "cell_type": "code",
   "execution_count": null,
   "metadata": {},
   "outputs": [],
   "source": []
  }
 ],
 "metadata": {
  "kernelspec": {
   "display_name": "Python 3 (ipykernel)",
   "language": "python",
   "name": "python3"
  },
  "language_info": {
   "codemirror_mode": {
    "name": "ipython",
    "version": 3
   },
   "file_extension": ".py",
   "mimetype": "text/x-python",
   "name": "python",
   "nbconvert_exporter": "python",
   "pygments_lexer": "ipython3",
   "version": "3.9.12"
  }
 },
 "nbformat": 4,
 "nbformat_minor": 4
}
